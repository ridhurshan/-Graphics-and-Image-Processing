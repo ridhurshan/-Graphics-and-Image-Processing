{
 "cells": [
  {
   "cell_type": "code",
   "execution_count": 11,
   "id": "4f28706a-d7dd-4e17-ae3b-8943a6ad16c2",
   "metadata": {},
   "outputs": [
    {
     "name": "stdout",
     "output_type": "stream",
     "text": [
      " Leaf Color (RGB): R=0, G=0, B=0\n",
      " Health Status: Unhealthy\n"
     ]
    },
    {
     "data": {
      "image/png": "[encoded data removed]",
      "text/plain": [
       "<Figure size 640x480 with 1 Axes>"
      ]
     },
     "metadata": {},
     "output_type": "display_data"
    }
   ],
   "source": [
    "import cv2\n",
    "import numpy as np\n",
    "import matplotlib.pyplot as plt\n",
    "\n",
    "img = cv2.imread('Images/20250308_am.jpg')\n",
    "img_rgb = cv2.cvtColor(img, cv2.COLOR_BGR2RGB)\n",
    "hsv = cv2.cvtColor(img, cv2.COLOR_BGR2HSV)\n",
    "\n",
    "#green Range\n",
    "lower_green = np.array([25, 40, 40])\n",
    "upper_green = np.array([90, 255, 255])\n",
    "mask = cv2.inRange(hsv, lower_green, upper_green)\n",
    "\n",
    "# Clean the mask\n",
    "kernel = np.ones((5, 5), np.uint8)\n",
    "clean_mask = cv2.morphologyEx(mask, cv2.MORPH_OPEN, kernel)\n",
    "clean_mask = cv2.morphologyEx(clean_mask, cv2.MORPH_CLOSE, kernel)\n",
    "\n",
    "# Mean color of detected green region\n",
    "mean_color = cv2.mean(img_rgb, mask=clean_mask)\n",
    "r, g, b = mean_color[:3]\n",
    "\n",
    "if g > r and g > b and g > 100:\n",
    "    color_health = \"Healthy\"\n",
    "elif g > r and g > b:\n",
    "    color_health = \"Slightly Pale\"\n",
    "else:\n",
    "    color_health = \"Unhealthy\"\n",
    "\n",
    "# Display result\n",
    "print(f\" Leaf Color (RGB): R={int(r)}, G={int(g)}, B={int(b)}\")\n",
    "print(f\" Health Status: {color_health}\")\n",
    "\n",
    "#showing seperated image\n",
    "highlighted = cv2.bitwise_and(img_rgb, img_rgb, mask=clean_mask)\n",
    "plt.imshow(highlighted)\n",
    "plt.title(f\"Health Status: {color_health}\")\n",
    "plt.axis('off')\n",
    "plt.show()"
   ]
  },
  {
   "cell_type": "code",
   "execution_count": null,
   "id": "0a257a58-5f3b-44d1-bed6-60f8b016b87d",
   "metadata": {},
   "outputs": [],
   "source": []
  }
 ],
 "metadata": {
  "kernelspec": {
   "display_name": "Python [conda env:base] *",
   "language": "python",
   "name": "conda-base-py"
  },
  "language_info": {
   "codemirror_mode": {
    "name": "ipython",
    "version": 3
   },
   "file_extension": ".py",
   "mimetype": "text/x-python",
   "name": "python",
   "nbconvert_exporter": "python",
   "pygments_lexer": "ipython3",
   "version": "3.12.7"
  }
 },
 "nbformat": 4,
 "nbformat_minor": 5
}
