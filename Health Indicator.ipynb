{
 "cells": [
  {
   "cell_type": "markdown",
   "id": "1925bc1a-2680-415a-86e2-5b47e02e8f62",
   "metadata": {},
   "source": [
    "Day 1"
   ]
  },
  {
   "cell_type": "code",
   "execution_count": 2,
   "id": "deca5e9e-2155-4fa2-805c-3eea8f0ac2ae",
   "metadata": {},
   "outputs": [
    {
     "name": "stdout",
     "output_type": "stream",
     "text": [
      " Leaf Color (RGB): R=0, G=0, B=0\n"
     ]
    },
    {
     "data": {
      "image/png": "[encoded data removed]",
      "text/plain": [
       "<Figure size 640x480 with 1 Axes>"
      ]
     },
     "metadata": {},
     "output_type": "display_data"
    }
   ],
   "source": [
    "import cv2\n",
    "import numpy as np\n",
    "import matplotlib.pyplot as plt\n",
    "\n",
    "img = cv2.imread('Images/20250308_am.jpg')\n",
    "if img is None:\n",
    "    print(\"Image does not exist\")\n",
    "else:\n",
    "    img_rgb = cv2.cvtColor(img, cv2.COLOR_BGR2RGB)\n",
    "    hsv = cv2.cvtColor(img, cv2.COLOR_BGR2HSV)\n",
    "\n",
    "    #define range\n",
    "    lowGreenValue = np.array([25, 40, 40])\n",
    "    upGreenValue = np.array([90, 255, 255])\n",
    "    mask = cv2.inRange(hsv, lowGreenValue, upGreenValue)\n",
    "    \n",
    "    #Remove noise\n",
    "    kernel = np.ones((5, 5), np.uint8)\n",
    "    mask = cv2.morphologyEx(mask, cv2.MORPH_OPEN, kernel)\n",
    "    mask = cv2.morphologyEx(mask, cv2.MORPH_CLOSE, kernel)\n",
    "    \n",
    "    #Detect green region\n",
    "    meanColor = cv2.mean(img_rgb, mask=mask)\n",
    "    r, g, b = meanColor[:3]\n",
    "    \n",
    "    if g > r and g > b and g > 100:\n",
    "        health = \"Healthy\"\n",
    "    elif g > r and g > b:\n",
    "        health = \"Slightly Pale\"\n",
    "    elif r == 0 and g == 0 and b == 0:\n",
    "        health = \"Plant not grown\"\n",
    "    else:\n",
    "        health = \"Unhealthy\"\n",
    "    \n",
    "    print(f\" Leaf Color (RGB): R={int(r)}, G={int(g)}, B={int(b)}\")\n",
    "    \n",
    "    highlighted = cv2.bitwise_and(img_rgb, img_rgb, mask=mask)\n",
    "    plt.imshow(highlighted)\n",
    "    plt.title(f\"{health}\")\n",
    "    plt.axis('off')\n",
    "    plt.show()"
   ]
  },
  {
   "cell_type": "markdown",
   "id": "cc8af3c3-5a23-412a-b5bc-399cb1e86cf1",
   "metadata": {},
   "source": [
    "Day 2"
   ]
  },
  {
   "cell_type": "code",
   "execution_count": 4,
   "id": "935ffe98-c6d7-4063-b8c6-d083ce50f2f1",
   "metadata": {},
   "outputs": [
    {
     "name": "stdout",
     "output_type": "stream",
     "text": [
      " Leaf Color (RGB): R=0, G=0, B=0\n"
     ]
    },
    {
     "data": {
      "image/png": "[encoded data removed]",
      "text/plain": [
       "<Figure size 640x480 with 1 Axes>"
      ]
     },
     "metadata": {},
     "output_type": "display_data"
    }
   ],
   "source": [
    "import cv2\n",
    "import numpy as np\n",
    "import matplotlib.pyplot as plt\n",
    "\n",
    "img = cv2.imread('Images/20250309_am.jpg')\n",
    "if img is None:\n",
    "    print(\"Image does not exist\")\n",
    "else:\n",
    "    img_rgb = cv2.cvtColor(img, cv2.COLOR_BGR2RGB)\n",
    "    hsv = cv2.cvtColor(img, cv2.COLOR_BGR2HSV)\n",
    "\n",
    "    #define range\n",
    "    lowGreenValue = np.array([25, 40, 40])\n",
    "    upGreenValue = np.array([90, 255, 255])\n",
    "    mask = cv2.inRange(hsv, lowGreenValue, upGreenValue)\n",
    "    \n",
    "    #Remove noise\n",
    "    kernel = np.ones((5, 5), np.uint8)\n",
    "    mask = cv2.morphologyEx(mask, cv2.MORPH_OPEN, kernel)\n",
    "    mask = cv2.morphologyEx(mask, cv2.MORPH_CLOSE, kernel)\n",
    "    \n",
    "    #Detect green region\n",
    "    meanColor = cv2.mean(img_rgb, mask=mask)\n",
    "    r, g, b = meanColor[:3]\n",
    "    \n",
    "    if g > r and g > b and g > 100:\n",
    "        health = \"Healthy\"\n",
    "    elif g > r and g > b:\n",
    "        health = \"Slightly Pale\"\n",
    "    elif r == 0 and g == 0 and b == 0:\n",
    "        health = \"Plant not grown\"\n",
    "    else:\n",
    "        health = \"Unhealthy\"\n",
    "    \n",
    "    print(f\" Leaf Color (RGB): R={int(r)}, G={int(g)}, B={int(b)}\")\n",
    "    \n",
    "    highlighted = cv2.bitwise_and(img_rgb, img_rgb, mask=mask)\n",
    "    plt.imshow(highlighted)\n",
    "    plt.title(f\"{health}\")\n",
    "    plt.axis('off')\n",
    "    plt.show()"
   ]
  },
  {
   "cell_type": "markdown",
   "id": "c3295195-7d2a-493f-9905-0179784d6dea",
   "metadata": {},
   "source": [
    "Day 3"
   ]
  },
  {
   "cell_type": "code",
   "execution_count": 6,
   "id": "d0ecf783-928e-48a4-a3a3-50d1bf790e08",
   "metadata": {},
   "outputs": [
    {
     "name": "stdout",
     "output_type": "stream",
     "text": [
      " Leaf Color (RGB): R=0, G=0, B=0\n"
     ]
    },
    {
     "data": {
      "image/png": "[encoded data removed]",
      "text/plain": [
       "<Figure size 640x480 with 1 Axes>"
      ]
     },
     "metadata": {},
     "output_type": "display_data"
    }
   ],
   "source": [
    "import cv2\n",
    "import numpy as np\n",
    "import matplotlib.pyplot as plt\n",
    "\n",
    "img = cv2.imread('Images/20250310_am.jpg')\n",
    "if img is None:\n",
    "    print(\"Image does not exist\")\n",
    "else:\n",
    "    img_rgb = cv2.cvtColor(img, cv2.COLOR_BGR2RGB)\n",
    "    hsv = cv2.cvtColor(img, cv2.COLOR_BGR2HSV)\n",
    "\n",
    "    #define range\n",
    "    lowGreenValue = np.array([25, 40, 40])\n",
    "    upGreenValue = np.array([90, 255, 255])\n",
    "    mask = cv2.inRange(hsv, lowGreenValue, upGreenValue)\n",
    "    \n",
    "    #Remove noise\n",
    "    kernel = np.ones((5, 5), np.uint8)\n",
    "    mask = cv2.morphologyEx(mask, cv2.MORPH_OPEN, kernel)\n",
    "    mask = cv2.morphologyEx(mask, cv2.MORPH_CLOSE, kernel)\n",
    "    \n",
    "    #Detect green region\n",
    "    meanColor = cv2.mean(img_rgb, mask=mask)\n",
    "    r, g, b = meanColor[:3]\n",
    "    \n",
    "    if g > r and g > b and g > 100:\n",
    "        health = \"Healthy\"\n",
    "    elif g > r and g > b:\n",
    "        health = \"Slightly Pale\"\n",
    "    elif r == 0 and g == 0 and b == 0:\n",
    "        health = \"Plant not grown\"\n",
    "    else:\n",
    "        health = \"Unhealthy\"\n",
    "    \n",
    "    print(f\" Leaf Color (RGB): R={int(r)}, G={int(g)}, B={int(b)}\")\n",
    "    \n",
    "    highlighted = cv2.bitwise_and(img_rgb, img_rgb, mask=mask)\n",
    "    plt.imshow(highlighted)\n",
    "    plt.title(f\"{health}\")\n",
    "    plt.axis('off')\n",
    "    plt.show()"
   ]
  },
  {
   "cell_type": "markdown",
   "id": "9840493e-5098-42cc-b588-73cbde0aa679",
   "metadata": {},
   "source": [
    "Day 4"
   ]
  },
  {
   "cell_type": "code",
   "execution_count": 14,
   "id": "14a0143c-baff-4eab-862b-131364a7aff9",
   "metadata": {},
   "outputs": [
    {
     "name": "stdout",
     "output_type": "stream",
     "text": [
      " Leaf Color (RGB): R=148, G=155, B=83\n"
     ]
    },
    {
     "data": {
      "image/png": "[encoded data removed]",
      "text/plain": [
       "<Figure size 640x480 with 1 Axes>"
      ]
     },
     "metadata": {},
     "output_type": "display_data"
    }
   ],
   "source": [
    "import cv2\n",
    "import numpy as np\n",
    "import matplotlib.pyplot as plt\n",
    "\n",
    "img = cv2.imread('Images/20250311_am.jpg')\n",
    "if img is None:\n",
    "    print(\"Image does not exist\")\n",
    "else:\n",
    "    img_rgb = cv2.cvtColor(img, cv2.COLOR_BGR2RGB)\n",
    "    hsv = cv2.cvtColor(img, cv2.COLOR_BGR2HSV)\n",
    "\n",
    "    #define range\n",
    "    lowGreenValue = np.array([25, 40, 40])\n",
    "    upGreenValue = np.array([90, 255, 255])\n",
    "    mask = cv2.inRange(hsv, lowGreenValue, upGreenValue)\n",
    "    \n",
    "    #Remove noise\n",
    "    kernel = np.ones((5, 5), np.uint8)\n",
    "    mask = cv2.morphologyEx(mask, cv2.MORPH_OPEN, kernel)\n",
    "    mask = cv2.morphologyEx(mask, cv2.MORPH_CLOSE, kernel)\n",
    "    \n",
    "    #Detect green region\n",
    "    meanColor = cv2.mean(img_rgb, mask=mask)\n",
    "    r, g, b = meanColor[:3]\n",
    "    \n",
    "    if g > r and g > b and g > 100:\n",
    "        health = \"Healthy\"\n",
    "    elif g > r and g > b:\n",
    "        health = \"Slightly Pale\"\n",
    "    elif r == 0 and g == 0 and b == 0:\n",
    "        health = \"Plant not grown\"\n",
    "    else:\n",
    "        health = \"Unhealthy\"\n",
    "    \n",
    "    print(f\" Leaf Color (RGB): R={int(r)}, G={int(g)}, B={int(b)}\")\n",
    "    \n",
    "    highlighted = cv2.bitwise_and(img_rgb, img_rgb, mask=mask)\n",
    "    plt.imshow(highlighted)\n",
    "    plt.title(f\"{health}\")\n",
    "    plt.axis('off')\n",
    "    plt.show()"
   ]
  },
  {
   "cell_type": "markdown",
   "id": "8152def1-5772-4db0-9ac8-7067c45c767a",
   "metadata": {},
   "source": [
    "Day 5"
   ]
  },
  {
   "cell_type": "code",
   "execution_count": 16,
   "id": "efefc335-4159-4a14-bf39-009fcece3986",
   "metadata": {},
   "outputs": [
    {
     "name": "stdout",
     "output_type": "stream",
     "text": [
      " Leaf Color (RGB): R=134, G=140, B=91\n"
     ]
    },
    {
     "data": {
      "image/png": "[encoded data removed]",
      "text/plain": [
       "<Figure size 640x480 with 1 Axes>"
      ]
     },
     "metadata": {},
     "output_type": "display_data"
    }
   ],
   "source": [
    "import cv2\n",
    "import numpy as np\n",
    "import matplotlib.pyplot as plt\n",
    "\n",
    "img = cv2.imread('Images/20250312_am.jpg')\n",
    "if img is None:\n",
    "    print(\"Image does not exist\")\n",
    "else:\n",
    "    img_rgb = cv2.cvtColor(img, cv2.COLOR_BGR2RGB)\n",
    "    hsv = cv2.cvtColor(img, cv2.COLOR_BGR2HSV)\n",
    "\n",
    "    #define range\n",
    "    lowGreenValue = np.array([25, 40, 40])\n",
    "    upGreenValue = np.array([90, 255, 255])\n",
    "    mask = cv2.inRange(hsv, lowGreenValue, upGreenValue)\n",
    "    \n",
    "    #Remove noise\n",
    "    kernel = np.ones((5, 5), np.uint8)\n",
    "    mask = cv2.morphologyEx(mask, cv2.MORPH_OPEN, kernel)\n",
    "    mask = cv2.morphologyEx(mask, cv2.MORPH_CLOSE, kernel)\n",
    "    \n",
    "    #Detect green region\n",
    "    meanColor = cv2.mean(img_rgb, mask=mask)\n",
    "    r, g, b = meanColor[:3]\n",
    "    \n",
    "    if g > r and g > b and g > 100:\n",
    "        health = \"Healthy\"\n",
    "    elif g > r and g > b:\n",
    "        health = \"Slightly Pale\"\n",
    "    elif r == 0 and g == 0 and b == 0:\n",
    "        health = \"Plant not grown\"\n",
    "    else:\n",
    "        health = \"Unhealthy\"\n",
    "    \n",
    "    print(f\" Leaf Color (RGB): R={int(r)}, G={int(g)}, B={int(b)}\")\n",
    "    \n",
    "    highlighted = cv2.bitwise_and(img_rgb, img_rgb, mask=mask)\n",
    "    plt.imshow(highlighted)\n",
    "    plt.title(f\"{health}\")\n",
    "    plt.axis('off')\n",
    "    plt.show()"
   ]
  },
  {
   "cell_type": "markdown",
   "id": "42eef5ad-f08f-49e9-8c20-85b4abb65781",
   "metadata": {},
   "source": [
    "Day 6"
   ]
  },
  {
   "cell_type": "code",
   "execution_count": 18,
   "id": "8e876e37-0a13-43e8-9162-bb5c4a24ec27",
   "metadata": {},
   "outputs": [
    {
     "name": "stdout",
     "output_type": "stream",
     "text": [
      " Leaf Color (RGB): R=115, G=148, B=79\n"
     ]
    },
    {
     "data": {
      "image/png": "[encoded data removed]",
      "text/plain": [
       "<Figure size 640x480 with 1 Axes>"
      ]
     },
     "metadata": {},
     "output_type": "display_data"
    }
   ],
   "source": [
    "import cv2\n",
    "import numpy as np\n",
    "import matplotlib.pyplot as plt\n",
    "\n",
    "img = cv2.imread('Images/20250313_am.jpg')\n",
    "if img is None:\n",
    "    print(\"Image does not exist\")\n",
    "else:\n",
    "    img_rgb = cv2.cvtColor(img, cv2.COLOR_BGR2RGB)\n",
    "    hsv = cv2.cvtColor(img, cv2.COLOR_BGR2HSV)\n",
    "\n",
    "    #define range\n",
    "    lowGreenValue = np.array([25, 40, 40])\n",
    "    upGreenValue = np.array([90, 255, 255])\n",
    "    mask = cv2.inRange(hsv, lowGreenValue, upGreenValue)\n",
    "    \n",
    "    #Remove noise\n",
    "    kernel = np.ones((5, 5), np.uint8)\n",
    "    mask = cv2.morphologyEx(mask, cv2.MORPH_OPEN, kernel)\n",
    "    mask = cv2.morphologyEx(mask, cv2.MORPH_CLOSE, kernel)\n",
    "    \n",
    "    #Detect green region\n",
    "    meanColor = cv2.mean(img_rgb, mask=mask)\n",
    "    r, g, b = meanColor[:3]\n",
    "    \n",
    "    if g > r and g > b and g > 100:\n",
    "        health = \"Healthy\"\n",
    "    elif g > r and g > b:\n",
    "        health = \"Slightly Pale\"\n",
    "    elif r == 0 and g == 0 and b == 0:\n",
    "        health = \"Plant not grown\"\n",
    "    else:\n",
    "        health = \"Unhealthy\"\n",
    "    \n",
    "    print(f\" Leaf Color (RGB): R={int(r)}, G={int(g)}, B={int(b)}\")\n",
    "    \n",
    "    highlighted = cv2.bitwise_and(img_rgb, img_rgb, mask=mask)\n",
    "    plt.imshow(highlighted)\n",
    "    plt.title(f\"{health}\")\n",
    "    plt.axis('off')\n",
    "    plt.show()"
   ]
  },
  {
   "cell_type": "markdown",
   "id": "fff73673-db6a-4d1c-a0c2-c3688b8073a9",
   "metadata": {},
   "source": [
    "Day 7"
   ]
  },
  {
   "cell_type": "code",
   "execution_count": 20,
   "id": "f4057794-e230-481d-a62a-a2c33add2e07",
   "metadata": {},
   "outputs": [
    {
     "name": "stdout",
     "output_type": "stream",
     "text": [
      " Leaf Color (RGB): R=110, G=137, B=73\n"
     ]
    },
    {
     "data": {
      "image/png": "[encoded data removed]",
      "text/plain": [
       "<Figure size 640x480 with 1 Axes>"
      ]
     },
     "metadata": {},
     "output_type": "display_data"
    }
   ],
   "source": [
    "import cv2\n",
    "import numpy as np\n",
    "import matplotlib.pyplot as plt\n",
    "\n",
    "img = cv2.imread('Images/20250314_am.jpg')\n",
    "if img is None:\n",
    "    print(\"Image does not exist\")\n",
    "else:\n",
    "    img_rgb = cv2.cvtColor(img, cv2.COLOR_BGR2RGB)\n",
    "    hsv = cv2.cvtColor(img, cv2.COLOR_BGR2HSV)\n",
    "\n",
    "    #define range\n",
    "    lowGreenValue = np.array([25, 40, 40])\n",
    "    upGreenValue = np.array([90, 255, 255])\n",
    "    mask = cv2.inRange(hsv, lowGreenValue, upGreenValue)\n",
    "    \n",
    "    #Remove noise\n",
    "    kernel = np.ones((5, 5), np.uint8)\n",
    "    mask = cv2.morphologyEx(mask, cv2.MORPH_OPEN, kernel)\n",
    "    mask = cv2.morphologyEx(mask, cv2.MORPH_CLOSE, kernel)\n",
    "    \n",
    "    #Detect green region\n",
    "    meanColor = cv2.mean(img_rgb, mask=mask)\n",
    "    r, g, b = meanColor[:3]\n",
    "    \n",
    "    if g > r and g > b and g > 100:\n",
    "        health = \"Healthy\"\n",
    "    elif g > r and g > b:\n",
    "        health = \"Slightly Pale\"\n",
    "    elif r == 0 and g == 0 and b == 0:\n",
    "        health = \"Plant not grown\"\n",
    "    else:\n",
    "        health = \"Unhealthy\"\n",
    "    \n",
    "    print(f\" Leaf Color (RGB): R={int(r)}, G={int(g)}, B={int(b)}\")\n",
    "    \n",
    "    highlighted = cv2.bitwise_and(img_rgb, img_rgb, mask=mask)\n",
    "    plt.imshow(highlighted)\n",
    "    plt.title(f\"{health}\")\n",
    "    plt.axis('off')\n",
    "    plt.show()"
   ]
  },
  {
   "cell_type": "markdown",
   "id": "b2e689a4-cd4f-498d-b407-c710d837ef44",
   "metadata": {},
   "source": [
    "Day 8"
   ]
  },
  {
   "cell_type": "code",
   "execution_count": 22,
   "id": "6f1698b9-3c72-4afa-b680-fd7837925310",
   "metadata": {},
   "outputs": [
    {
     "name": "stdout",
     "output_type": "stream",
     "text": [
      " Leaf Color (RGB): R=118, G=146, B=81\n"
     ]
    },
    {
     "data": {
      "image/png": "[encoded data removed]",
      "text/plain": [
       "<Figure size 640x480 with 1 Axes>"
      ]
     },
     "metadata": {},
     "output_type": "display_data"
    }
   ],
   "source": [
    "import cv2\n",
    "import numpy as np\n",
    "import matplotlib.pyplot as plt\n",
    "\n",
    "img = cv2.imread('Images/20250315_am.jpg')\n",
    "if img is None:\n",
    "    print(\"Image does not exist\")\n",
    "else:\n",
    "    img_rgb = cv2.cvtColor(img, cv2.COLOR_BGR2RGB)\n",
    "    hsv = cv2.cvtColor(img, cv2.COLOR_BGR2HSV)\n",
    "\n",
    "    #define range\n",
    "    lowGreenValue = np.array([25, 40, 40])\n",
    "    upGreenValue = np.array([90, 255, 255])\n",
    "    mask = cv2.inRange(hsv, lowGreenValue, upGreenValue)\n",
    "    \n",
    "    #Remove noise\n",
    "    kernel = np.ones((5, 5), np.uint8)\n",
    "    mask = cv2.morphologyEx(mask, cv2.MORPH_OPEN, kernel)\n",
    "    mask = cv2.morphologyEx(mask, cv2.MORPH_CLOSE, kernel)\n",
    "    \n",
    "    #Detect green region\n",
    "    meanColor = cv2.mean(img_rgb, mask=mask)\n",
    "    r, g, b = meanColor[:3]\n",
    "    \n",
    "    if g > r and g > b and g > 100:\n",
    "        health = \"Healthy\"\n",
    "    elif g > r and g > b:\n",
    "        health = \"Slightly Pale\"\n",
    "    elif r == 0 and g == 0 and b == 0:\n",
    "        health = \"Plant not grown\"\n",
    "    else:\n",
    "        health = \"Unhealthy\"\n",
    "    \n",
    "    print(f\" Leaf Color (RGB): R={int(r)}, G={int(g)}, B={int(b)}\")\n",
    "    \n",
    "    highlighted = cv2.bitwise_and(img_rgb, img_rgb, mask=mask)\n",
    "    plt.imshow(highlighted)\n",
    "    plt.title(f\"{health}\")\n",
    "    plt.axis('off')\n",
    "    plt.show()"
   ]
  },
  {
   "cell_type": "markdown",
   "id": "945ba0b1-2b66-4ea9-8a5c-b2de24fd7542",
   "metadata": {},
   "source": [
    "Day 9"
   ]
  },
  {
   "cell_type": "code",
   "execution_count": 24,
   "id": "55254584-3248-4d2c-8a76-56b9f4b845ab",
   "metadata": {},
   "outputs": [
    {
     "name": "stdout",
     "output_type": "stream",
     "text": [
      " Leaf Color (RGB): R=91, G=128, B=62\n"
     ]
    },
    {
     "data": {
      "image/png": "[encoded data removed]",
      "text/plain": [
       "<Figure size 640x480 with 1 Axes>"
      ]
     },
     "metadata": {},
     "output_type": "display_data"
    }
   ],
   "source": [
    "import cv2\n",
    "import numpy as np\n",
    "import matplotlib.pyplot as plt\n",
    "\n",
    "img = cv2.imread('Images/20250316_am.jpg')\n",
    "if img is None:\n",
    "    print(\"Image does not exist\")\n",
    "else:\n",
    "    img_rgb = cv2.cvtColor(img, cv2.COLOR_BGR2RGB)\n",
    "    hsv = cv2.cvtColor(img, cv2.COLOR_BGR2HSV)\n",
    "\n",
    "    #define range\n",
    "    lowGreenValue = np.array([25, 40, 40])\n",
    "    upGreenValue = np.array([90, 255, 255])\n",
    "    mask = cv2.inRange(hsv, lowGreenValue, upGreenValue)\n",
    "    \n",
    "    #Remove noise\n",
    "    kernel = np.ones((5, 5), np.uint8)\n",
    "    mask = cv2.morphologyEx(mask, cv2.MORPH_OPEN, kernel)\n",
    "    mask = cv2.morphologyEx(mask, cv2.MORPH_CLOSE, kernel)\n",
    "    \n",
    "    #Detect green region\n",
    "    meanColor = cv2.mean(img_rgb, mask=mask)\n",
    "    r, g, b = meanColor[:3]\n",
    "    \n",
    "    if g > r and g > b and g > 100:\n",
    "        health = \"Healthy\"\n",
    "    elif g > r and g > b:\n",
    "        health = \"Slightly Pale\"\n",
    "    elif r == 0 and g == 0 and b == 0:\n",
    "        health = \"Plant not grown\"\n",
    "    else:\n",
    "        health = \"Unhealthy\"\n",
    "    \n",
    "    print(f\" Leaf Color (RGB): R={int(r)}, G={int(g)}, B={int(b)}\")\n",
    "    \n",
    "    highlighted = cv2.bitwise_and(img_rgb, img_rgb, mask=mask)\n",
    "    plt.imshow(highlighted)\n",
    "    plt.title(f\"{health}\")\n",
    "    plt.axis('off')\n",
    "    plt.show()"
   ]
  },
  {
   "cell_type": "markdown",
   "id": "5fc32bfc-fc72-49b7-8949-16a854d1f030",
   "metadata": {},
   "source": [
    "Day 10"
   ]
  },
  {
   "cell_type": "code",
   "execution_count": 26,
   "id": "6523069f-e943-4976-b2c0-fad4a86dfa41",
   "metadata": {},
   "outputs": [
    {
     "name": "stdout",
     "output_type": "stream",
     "text": [
      " Leaf Color (RGB): R=109, G=149, B=78\n"
     ]
    },
    {
     "data": {
      "image/png": "[encoded data removed]",
      "text/plain": [
       "<Figure size 640x480 with 1 Axes>"
      ]
     },
     "metadata": {},
     "output_type": "display_data"
    }
   ],
   "source": [
    "import cv2\n",
    "import numpy as np\n",
    "import matplotlib.pyplot as plt\n",
    "\n",
    "img = cv2.imread('Images/20250317_am.jpg')\n",
    "if img is None:\n",
    "    print(\"Image does not exist\")\n",
    "else:\n",
    "    img_rgb = cv2.cvtColor(img, cv2.COLOR_BGR2RGB)\n",
    "    hsv = cv2.cvtColor(img, cv2.COLOR_BGR2HSV)\n",
    "\n",
    "    #define range\n",
    "    lowGreenValue = np.array([25, 40, 40])\n",
    "    upGreenValue = np.array([90, 255, 255])\n",
    "    mask = cv2.inRange(hsv, lowGreenValue, upGreenValue)\n",
    "    \n",
    "    #Remove noise\n",
    "    kernel = np.ones((5, 5), np.uint8)\n",
    "    mask = cv2.morphologyEx(mask, cv2.MORPH_OPEN, kernel)\n",
    "    mask = cv2.morphologyEx(mask, cv2.MORPH_CLOSE, kernel)\n",
    "    \n",
    "    #Detect green region\n",
    "    meanColor = cv2.mean(img_rgb, mask=mask)\n",
    "    r, g, b = meanColor[:3]\n",
    "    \n",
    "    if g > r and g > b and g > 100:\n",
    "        health = \"Healthy\"\n",
    "    elif g > r and g > b:\n",
    "        health = \"Slightly Pale\"\n",
    "    elif r == 0 and g == 0 and b == 0:\n",
    "        health = \"Plant not grown\"\n",
    "    else:\n",
    "        health = \"Unhealthy\"\n",
    "    \n",
    "    print(f\" Leaf Color (RGB): R={int(r)}, G={int(g)}, B={int(b)}\")\n",
    "    \n",
    "    highlighted = cv2.bitwise_and(img_rgb, img_rgb, mask=mask)\n",
    "    plt.imshow(highlighted)\n",
    "    plt.title(f\"{health}\")\n",
    "    plt.axis('off')\n",
    "    plt.show()"
   ]
  },
  {
   "cell_type": "markdown",
   "id": "6a62bdef-03a6-4a0e-8913-3f9733dca473",
   "metadata": {},
   "source": [
    "Day 11"
   ]
  },
  {
   "cell_type": "code",
   "execution_count": 28,
   "id": "95745f2b-ab66-4e2f-9938-d541cb4597c2",
   "metadata": {},
   "outputs": [
    {
     "name": "stdout",
     "output_type": "stream",
     "text": [
      " Leaf Color (RGB): R=119, G=169, B=72\n"
     ]
    },
    {
     "data": {
      "image/png": "[encoded data removed]",
      "text/plain": [
       "<Figure size 640x480 with 1 Axes>"
      ]
     },
     "metadata": {},
     "output_type": "display_data"
    }
   ],
   "source": [
    "import cv2\n",
    "import numpy as np\n",
    "import matplotlib.pyplot as plt\n",
    "\n",
    "img = cv2.imread('Images/20250318_am.jpg')\n",
    "if img is None:\n",
    "    print(\"Image does not exist\")\n",
    "else:\n",
    "    img_rgb = cv2.cvtColor(img, cv2.COLOR_BGR2RGB)\n",
    "    hsv = cv2.cvtColor(img, cv2.COLOR_BGR2HSV)\n",
    "\n",
    "    #define range\n",
    "    lowGreenValue = np.array([25, 40, 40])\n",
    "    upGreenValue = np.array([90, 255, 255])\n",
    "    mask = cv2.inRange(hsv, lowGreenValue, upGreenValue)\n",
    "    \n",
    "    #Remove noise\n",
    "    kernel = np.ones((5, 5), np.uint8)\n",
    "    mask = cv2.morphologyEx(mask, cv2.MORPH_OPEN, kernel)\n",
    "    mask = cv2.morphologyEx(mask, cv2.MORPH_CLOSE, kernel)\n",
    "    \n",
    "    #Detect green region\n",
    "    meanColor = cv2.mean(img_rgb, mask=mask)\n",
    "    r, g, b = meanColor[:3]\n",
    "    \n",
    "    if g > r and g > b and g > 100:\n",
    "        health = \"Healthy\"\n",
    "    elif g > r and g > b:\n",
    "        health = \"Slightly Pale\"\n",
    "    elif r == 0 and g == 0 and b == 0:\n",
    "        health = \"Plant not grown\"\n",
    "    else:\n",
    "        health = \"Unhealthy\"\n",
    "    \n",
    "    print(f\" Leaf Color (RGB): R={int(r)}, G={int(g)}, B={int(b)}\")\n",
    "    \n",
    "    highlighted = cv2.bitwise_and(img_rgb, img_rgb, mask=mask)\n",
    "    plt.imshow(highlighted)\n",
    "    plt.title(f\"{health}\")\n",
    "    plt.axis('off')\n",
    "    plt.show()"
   ]
  },
  {
   "cell_type": "markdown",
   "id": "c4803b20-2d85-442f-a50c-05ec84b07889",
   "metadata": {},
   "source": [
    "Day 12"
   ]
  },
  {
   "cell_type": "code",
   "execution_count": 30,
   "id": "4a3116c6-b5df-4b4b-aa45-c2edfa32febf",
   "metadata": {},
   "outputs": [
    {
     "name": "stdout",
     "output_type": "stream",
     "text": [
      " Leaf Color (RGB): R=124, G=173, B=76\n"
     ]
    },
    {
     "data": {
      "image/png": "[encoded data removed]",
      "text/plain": [
       "<Figure size 640x480 with 1 Axes>"
      ]
     },
     "metadata": {},
     "output_type": "display_data"
    }
   ],
   "source": [
    "import cv2\n",
    "import numpy as np\n",
    "import matplotlib.pyplot as plt\n",
    "\n",
    "img = cv2.imread('Images/20250319_am.jpg')\n",
    "if img is None:\n",
    "    print(\"Image does not exist\")\n",
    "else:\n",
    "    img_rgb = cv2.cvtColor(img, cv2.COLOR_BGR2RGB)\n",
    "    hsv = cv2.cvtColor(img, cv2.COLOR_BGR2HSV)\n",
    "\n",
    "    #define range\n",
    "    lowGreenValue = np.array([25, 40, 40])\n",
    "    upGreenValue = np.array([90, 255, 255])\n",
    "    mask = cv2.inRange(hsv, lowGreenValue, upGreenValue)\n",
    "    \n",
    "    #Remove noise\n",
    "    kernel = np.ones((5, 5), np.uint8)\n",
    "    mask = cv2.morphologyEx(mask, cv2.MORPH_OPEN, kernel)\n",
    "    mask = cv2.morphologyEx(mask, cv2.MORPH_CLOSE, kernel)\n",
    "    \n",
    "    #Detect green region\n",
    "    meanColor = cv2.mean(img_rgb, mask=mask)\n",
    "    r, g, b = meanColor[:3]\n",
    "    \n",
    "    if g > r and g > b and g > 100:\n",
    "        health = \"Healthy\"\n",
    "    elif g > r and g > b:\n",
    "        health = \"Slightly Pale\"\n",
    "    elif r == 0 and g == 0 and b == 0:\n",
    "        health = \"Plant not grown\"\n",
    "    else:\n",
    "        health = \"Unhealthy\"\n",
    "    \n",
    "    print(f\" Leaf Color (RGB): R={int(r)}, G={int(g)}, B={int(b)}\")\n",
    "    \n",
    "    highlighted = cv2.bitwise_and(img_rgb, img_rgb, mask=mask)\n",
    "    plt.imshow(highlighted)\n",
    "    plt.title(f\"{health}\")\n",
    "    plt.axis('off')\n",
    "    plt.show()"
   ]
  },
  {
   "cell_type": "markdown",
   "id": "1150bdba-47c8-4c8e-8a38-ae15c427fd2a",
   "metadata": {},
   "source": [
    "Day 13"
   ]
  },
  {
   "cell_type": "code",
   "execution_count": 32,
   "id": "ee9793ed-5487-4a8a-83fb-efe910d24c98",
   "metadata": {},
   "outputs": [
    {
     "name": "stdout",
     "output_type": "stream",
     "text": [
      " Leaf Color (RGB): R=100, G=142, B=64\n"
     ]
    },
    {
     "data": {
      "image/png": "[encoded data removed]",
      "text/plain": [
       "<Figure size 640x480 with 1 Axes>"
      ]
     },
     "metadata": {},
     "output_type": "display_data"
    }
   ],
   "source": [
    "import cv2\n",
    "import numpy as np\n",
    "import matplotlib.pyplot as plt\n",
    "\n",
    "img = cv2.imread('Images/20250320_am.jpg')\n",
    "if img is None:\n",
    "    print(\"Image does not exist\")\n",
    "else:\n",
    "    img_rgb = cv2.cvtColor(img, cv2.COLOR_BGR2RGB)\n",
    "    hsv = cv2.cvtColor(img, cv2.COLOR_BGR2HSV)\n",
    "\n",
    "    #define range\n",
    "    lowGreenValue = np.array([25, 40, 40])\n",
    "    upGreenValue = np.array([90, 255, 255])\n",
    "    mask = cv2.inRange(hsv, lowGreenValue, upGreenValue)\n",
    "    \n",
    "    #Remove noise\n",
    "    kernel = np.ones((5, 5), np.uint8)\n",
    "    mask = cv2.morphologyEx(mask, cv2.MORPH_OPEN, kernel)\n",
    "    mask = cv2.morphologyEx(mask, cv2.MORPH_CLOSE, kernel)\n",
    "    \n",
    "    #Detect green region\n",
    "    meanColor = cv2.mean(img_rgb, mask=mask)\n",
    "    r, g, b = meanColor[:3]\n",
    "    \n",
    "    if g > r and g > b and g > 100:\n",
    "        health = \"Healthy\"\n",
    "    elif g > r and g > b:\n",
    "        health = \"Slightly Pale\"\n",
    "    elif r == 0 and g == 0 and b == 0:\n",
    "        health = \"Plant not grown\"\n",
    "    else:\n",
    "        health = \"Unhealthy\"\n",
    "    \n",
    "    print(f\" Leaf Color (RGB): R={int(r)}, G={int(g)}, B={int(b)}\")\n",
    "    \n",
    "    highlighted = cv2.bitwise_and(img_rgb, img_rgb, mask=mask)\n",
    "    plt.imshow(highlighted)\n",
    "    plt.title(f\"{health}\")\n",
    "    plt.axis('off')\n",
    "    plt.show()"
   ]
  },
  {
   "cell_type": "markdown",
   "id": "e29a3a04-f833-4e26-a89e-503fab842cdb",
   "metadata": {},
   "source": [
    "Day 14"
   ]
  },
  {
   "cell_type": "code",
   "execution_count": 36,
   "id": "b77e30ff-385d-4021-8389-31ef794082c0",
   "metadata": {},
   "outputs": [
    {
     "name": "stdout",
     "output_type": "stream",
     "text": [
      " Leaf Color (RGB): R=107, G=143, B=74\n"
     ]
    },
    {
     "data": {
      "image/png": "[encoded data removed]",
      "text/plain": [
       "<Figure size 640x480 with 1 Axes>"
      ]
     },
     "metadata": {},
     "output_type": "display_data"
    }
   ],
   "source": [
    "import cv2\n",
    "import numpy as np\n",
    "import matplotlib.pyplot as plt\n",
    "\n",
    "img = cv2.imread('Images/20250321_am.jpg')\n",
    "if img is None:\n",
    "    print(\"Image does not exist\")\n",
    "else:\n",
    "    img_rgb = cv2.cvtColor(img, cv2.COLOR_BGR2RGB)\n",
    "    hsv = cv2.cvtColor(img, cv2.COLOR_BGR2HSV)\n",
    "\n",
    "    #define range\n",
    "    lowGreenValue = np.array([25, 40, 40])\n",
    "    upGreenValue = np.array([90, 255, 255])\n",
    "    mask = cv2.inRange(hsv, lowGreenValue, upGreenValue)\n",
    "    \n",
    "    #Remove noise\n",
    "    kernel = np.ones((5, 5), np.uint8)\n",
    "    mask = cv2.morphologyEx(mask, cv2.MORPH_OPEN, kernel)\n",
    "    mask = cv2.morphologyEx(mask, cv2.MORPH_CLOSE, kernel)\n",
    "    \n",
    "    #Detect green region\n",
    "    meanColor = cv2.mean(img_rgb, mask=mask)\n",
    "    r, g, b = meanColor[:3]\n",
    "    \n",
    "    if g > r and g > b and g > 100:\n",
    "        health = \"Healthy\"\n",
    "    elif g > r and g > b:\n",
    "        health = \"Slightly Pale\"\n",
    "    elif r == 0 and g == 0 and b == 0:\n",
    "        health = \"Plant not grown\"\n",
    "    else:\n",
    "        health = \"Unhealthy\"\n",
    "    \n",
    "    print(f\" Leaf Color (RGB): R={int(r)}, G={int(g)}, B={int(b)}\")\n",
    "    \n",
    "    highlighted = cv2.bitwise_and(img_rgb, img_rgb, mask=mask)\n",
    "    plt.imshow(highlighted)\n",
    "    plt.title(f\"{health}\")\n",
    "    plt.axis('off')\n",
    "    plt.show()"
   ]
  },
  {
   "cell_type": "code",
   "execution_count": null,
   "id": "56eff922-a978-4180-b660-5b6a95995551",
   "metadata": {},
   "outputs": [],
   "source": []
  }
 ],
 "metadata": {
  "kernelspec": {
   "display_name": "Python [conda env:base] *",
   "language": "python",
   "name": "conda-base-py"
  },
  "language_info": {
   "codemirror_mode": {
    "name": "ipython",
    "version": 3
   },
   "file_extension": ".py",
   "mimetype": "text/x-python",
   "name": "python",
   "nbconvert_exporter": "python",
   "pygments_lexer": "ipython3",
   "version": "3.12.7"
  }
 },
 "nbformat": 4,
 "nbformat_minor": 5
}
