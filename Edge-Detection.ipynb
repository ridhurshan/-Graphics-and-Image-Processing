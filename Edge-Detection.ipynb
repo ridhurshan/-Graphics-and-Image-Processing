{
 "cells": [
  {
   "cell_type": "code",
   "execution_count": null,
   "id": "ddb19521-e5d9-49eb-8eb8-1f926b17dd78",
   "metadata": {},
   "outputs": [],
   "source": [
    "import cv2\n",
    "import numpy as np\n",
    "\n",
    "image = cv2.imread(\"3.jpg\", cv2.IMREAD_GRAYSCALE)\n",
    "\n",
    "_, thresh = cv2.threshold(image, 127, 255, cv2.THRESH_BINARY)\n",
    "\n",
    "adaptive_thresh = cv2.adaptiveThreshold(\n",
    "    image, 255, cv2.ADAPTIVE_THRESH_GAUSSIAN_C, cv2.THRESH_BINARY, 11, 2\n",
    ")\n",
    "edges = cv2.Canny(image, 100, 200)\n",
    "\n",
    "image = cv2.imread(\"3.jpg\")\n",
    "gray = cv2.cvtColor(image, cv2.COLOR_BGR2GRAY)\n",
    "\n",
    "_, binary = cv2.threshold(gray, 0, 255, cv2.THRESH_BINARY_INV + cv2.THRESH_OTSU)\n",
    "\n",
    "kernel = np.ones((3, 3), np.uint8)\n",
    "opening = cv2.morphologyEx(binary, cv2.MORPH_OPEN, kernel, iterations=2)\n",
    "\n",
    "sure_bg = cv2.dilate(opening, kernel, iterations=3)\n",
    "\n",
    "dist_transform = cv2.distanceTransform(opening, cv2.DIST_L2, 5)\n",
    "_, sure_fg = cv2.threshold(dist_transform, 0.7 * dist_transform.max(), 255, 0)\n",
    "\n",
    "sure_fg = np.uint8(sure_fg)\n",
    "unknown = cv2.subtract(sure_bg, sure_fg)\n",
    "\n",
    "_, markers = cv2.connectedComponents(sure_fg)\n",
    "\n",
    "markers = markers + 1\n",
    "\n",
    "markers[unknown == 255] = 0\n",
    "\n",
    "markers = cv2.watershed(image, markers)\n",
    "\n",
    "image[markers == -1] = [255, 0, 0]\n",
    "\n",
    "cv2.imshow(\"Watershed Result\", image)\n",
    "cv2.imshow(\"Edges\", edges)\n",
    "cv2.imshow(\"Adaptive Threshold\", adaptive_thresh)\n",
    "cv2.imshow(\"Thresholded Image\", thresh)\n",
    "cv2.waitKey(0)\n",
    "cv2.destroyAllWindows()\n"
   ]
  },
  {
   "cell_type": "code",
   "execution_count": null,
   "id": "5771b586-b115-4629-84f5-39c6145bece7",
   "metadata": {},
   "outputs": [],
   "source": []
  }
 ],
 "metadata": {
  "kernelspec": {
   "display_name": "Python 3 (ipykernel)",
   "language": "python",
   "name": "python3"
  },
  "language_info": {
   "codemirror_mode": {
    "name": "ipython",
    "version": 3
   },
   "file_extension": ".py",
   "mimetype": "text/x-python",
   "name": "python",
   "nbconvert_exporter": "python",
   "pygments_lexer": "ipython3",
   "version": "3.12.3"
  }
 },
 "nbformat": 4,
 "nbformat_minor": 5
}
