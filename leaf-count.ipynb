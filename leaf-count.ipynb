{
 "cells": [
  {
   "cell_type": "code",
   "execution_count": null,
   "id": "ea5f6e78",
   "metadata": {},
   "outputs": [
    {
     "name": "stdout",
     "output_type": "stream",
     "text": [
      "Number of leaves detected: 1\n"
     ]
    }
   ],
   "source": [
    "import cv2\n",
    "import numpy as np\n",
    "\n",
    "image = cv2.imread(\"3.jpg\")\n",
    "if image is None:\n",
    "    print(\"Image not found!\")\n",
    "    exit()\n",
    "\n",
    "scale_percent = 50 \n",
    "width = int(image.shape[1] * scale_percent / 100)\n",
    "height = int(image.shape[0] * scale_percent / 100)\n",
    "dim = (width, height)\n",
    "image = cv2.resize(image, dim, interpolation=cv2.INTER_AREA)\n",
    "\n",
    "hsv = cv2.cvtColor(image, cv2.COLOR_BGR2HSV)\n",
    "\n",
    "lower_green = np.array([35, 40, 40]) \n",
    "upper_green = np.array([85, 255, 255])\n",
    "\n",
    "mask = cv2.inRange(hsv, lower_green, upper_green)\n",
    "\n",
    "kernel = cv2.getStructuringElement(cv2.MORPH_ELLIPSE, (5, 5))\n",
    "mask_cleaned = cv2.morphologyEx(mask, cv2.MORPH_CLOSE, kernel)\n",
    "\n",
    "contours, _ = cv2.findContours(mask_cleaned, cv2.RETR_EXTERNAL, cv2.CHAIN_APPROX_SIMPLE)\n",
    "\n",
    "output_image = image.copy()\n",
    "leaf_count = 0\n",
    "for contour in contours:\n",
    "    if cv2.contourArea(contour) > 500: \n",
    "        cv2.drawContours(output_image, [contour], -1, (0, 255, 0), 2)\n",
    "        leaf_count += 1\n",
    "print(f\"Number of leaves detected: {leaf_count}\")\n",
    "\n",
    "cv2.imshow(\"Original Image\", image)\n",
    "cv2.imshow(\"Green Mask\", mask_cleaned)\n",
    "cv2.imshow(\"Detected Leaves\", output_image)\n",
    "cv2.waitKey(0)\n",
    "cv2.destroyAllWindows()\n"
   ]
  },
  {
   "cell_type": "code",
   "execution_count": null,
   "id": "39e12813",
   "metadata": {},
   "outputs": [
    {
     "name": "stdout",
     "output_type": "stream",
     "text": [
      "Area of Leaf 1: 0.0 pixels\n"
     ]
    }
   ],
   "source": [
    "import cv2\n",
    "\n",
    "image = cv2.imread(\"3.jpg\")\n",
    "if image is None:\n",
    "    print(\"Image not found!\")\n",
    "    exit()\n",
    "\n",
    "gray = cv2.cvtColor(image, cv2.COLOR_BGR2GRAY)\n",
    "\n",
    "_, binary = cv2.threshold(gray, 100, 255, cv2.THRESH_BINARY)\n",
    "\n",
    "contours, _ = cv2.findContours(binary, cv2.RETR_EXTERNAL, cv2.CHAIN_APPROX_SIMPLE)\n",
    "\n",
    "output_image = image.copy()\n",
    "for i, contour in enumerate(contours):\n",
    "    # Draw the contour and label it with an index number\n",
    "    cv2.drawContours(output_image, [contour], -1, (0, 255, 0), 2)\n",
    "    x, y, w, h = cv2.boundingRect(contour)\n",
    "    cv2.putText(output_image, f\"{i+1}\", (x, y - 10), cv2.FONT_HERSHEY_SIMPLEX, 0.5, (255, 0, 0), 2)\n",
    "\n",
    "cv2.imshow(\"Labelled Leaves\", output_image)\n",
    "cv2.waitKey(0)\n",
    "\n",
    "target_index = 0 \n",
    "\n",
    "if 0 <= target_index < len(contours):\n",
    "    target_contour = contours[target_index]\n",
    "    leaf_area = cv2.contourArea(target_contour)\n",
    "    print(f\"Area of Leaf {target_index + 1}: {leaf_area} pixels\")\n",
    "else:\n",
    "    print(\"Invalid leaf index selected!\")\n",
    "\n",
    "selected_leaf_image = image.copy()\n",
    "cv2.drawContours(selected_leaf_image, [contours[target_index]], -1, (0, 0, 255), 3)\n",
    "cv2.imshow(\"Selected Leaf\", selected_leaf_image)\n",
    "cv2.waitKey(0)\n",
    "cv2.destroyAllWindows()\n"
   ]
  },
  {
   "cell_type": "code",
   "execution_count": null,
   "id": "bb49dabf",
   "metadata": {},
   "outputs": [],
   "source": []
  },
  {
   "cell_type": "code",
   "execution_count": null,
   "id": "edf35b22-06de-4a36-a6c0-c889ebb1593a",
   "metadata": {},
   "outputs": [],
   "source": []
  },
  {
   "cell_type": "code",
   "execution_count": null,
   "id": "d2f91857-9f0f-4908-a8a2-59074757724e",
   "metadata": {},
   "outputs": [],
   "source": []
  },
  {
   "cell_type": "code",
   "execution_count": null,
   "id": "ef758edc-2351-4dd5-9ded-2c7b4142bbe8",
   "metadata": {},
   "outputs": [],
   "source": []
  }
 ],
 "metadata": {
  "kernelspec": {
   "display_name": "Python 3 (ipykernel)",
   "language": "python",
   "name": "python3"
  },
  "language_info": {
   "codemirror_mode": {
    "name": "ipython",
    "version": 3
   },
   "file_extension": ".py",
   "mimetype": "text/x-python",
   "name": "python",
   "nbconvert_exporter": "python",
   "pygments_lexer": "ipython3",
   "version": "3.12.3"
  }
 },
 "nbformat": 4,
 "nbformat_minor": 5
}
