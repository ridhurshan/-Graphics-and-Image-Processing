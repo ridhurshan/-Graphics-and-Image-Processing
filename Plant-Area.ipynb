{
 "cells": [
  {
   "cell_type": "code",
   "execution_count": null,
   "id": "048da162-073e-4e85-a60c-061948ba9fd7",
   "metadata": {},
   "outputs": [
    {
     "name": "stdout",
     "output_type": "stream",
     "text": [
      "Average RGB Values of the Plant: [ 83.22556391 151.41353383 128.45864662]\n",
      "Estimated Plant Area (in pixels): 133\n"
     ]
    }
   ],
   "source": [
    "import cv2\n",
    "import numpy as np\n",
    "\n",
    "image = cv2.imread('1.jpg')\n",
    "if image is None:\n",
    "    print(\"Error: Image not found.\")\n",
    "    exit()\n",
    "image = cv2.resize(image, (800, 800)) \n",
    "cv2.imshow(\"Original Image\", image)\n",
    "gray = cv2.cvtColor(image, cv2.COLOR_BGR2GRAY)\n",
    "edges = cv2.Canny(gray, threshold1=50, threshold2=150)\n",
    "cv2.imshow(\"Edges\", edges)\n",
    "hsv = cv2.cvtColor(image, cv2.COLOR_BGR2HSV)\n",
    "lower_green = np.array([35, 50, 50])  \n",
    "upper_green = np.array([85, 255, 255]) \n",
    "mask = cv2.inRange(hsv, lower_green, upper_green)\n",
    "segmented_image = cv2.bitwise_and(image, image, mask=mask)\n",
    "cv2.imshow(\"Segmented Image\", segmented_image)\n",
    "rgb_values = image[mask > 0]\n",
    "average_rgb = np.mean(rgb_values, axis=0) \n",
    "print(f\"Average RGB Values of the Plant: {average_rgb}\")\n",
    "plant_area = cv2.countNonZero(mask)\n",
    "print(f\"Estimated Plant Area (in pixels): {plant_area}\")\n",
    "cv2.waitKey(0)\n",
    "cv2.destroyAllWindows()\n"
   ]
  },
  {
   "cell_type": "code",
   "execution_count": null,
   "id": "22a80914-dbb3-49f3-b34c-f3e8aec5c66e",
   "metadata": {},
   "outputs": [],
   "source": [
    "import cv2\n",
    "import numpy as np\n",
    "\n",
    "def measure_growth(image_path):\n",
    "    image = cv2.imread(image_path)\n",
    "    if image is None:\n",
    "        print(f\"Error: Image '{image_path}' not found.\")\n",
    "        return None\n",
    "\n",
    "    image = cv2.resize(image, (800, 800))\n",
    "\n",
    "    hsv = cv2.cvtColor(image, cv2.COLOR_BGR2HSV)\n",
    "\n",
    "    lower_green = np.array([35, 50, 50]) \n",
    "    upper_green = np.array([85, 255, 255])  \n",
    "\n",
    "    mask = cv2.inRange(hsv, lower_green, upper_green)\n",
    "\n",
    "    plant_area = cv2.countNonZero(mask)\n",
    " \n",
    "    cv2.imshow(\"Original Image\", image)\n",
    "    cv2.imshow(\"Plant Mask\", mask)\n",
    "    cv2.waitKey(0)\n",
    "    cv2.destroyAllWindows()\n",
    "\n",
    "    return plant_area\n",
    "\n",
    "image_path = '1.jpg'  \n",
    "plant_area = measure_growth(image_path)\n",
    "if plant_area is not None:\n",
    "    print(f\"Plant Area (in pixels): {plant_area}\")\n"
   ]
  },
  {
   "cell_type": "code",
   "execution_count": null,
   "id": "96019cfa-5a97-4c4d-9a99-441d294d7bce",
   "metadata": {},
   "outputs": [],
   "source": []
  }
 ],
 "metadata": {
  "kernelspec": {
   "display_name": "Python 3 (ipykernel)",
   "language": "python",
   "name": "python3"
  },
  "language_info": {
   "codemirror_mode": {
    "name": "ipython",
    "version": 3
   },
   "file_extension": ".py",
   "mimetype": "text/x-python",
   "name": "python",
   "nbconvert_exporter": "python",
   "pygments_lexer": "ipython3",
   "version": "3.12.3"
  }
 },
 "nbformat": 4,
 "nbformat_minor": 5
}
