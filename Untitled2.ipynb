{
 "cells": [
  {
   "cell_type": "code",
   "execution_count": null,
   "id": "d3c79265-3bf4-4149-bc12-859348ca488d",
   "metadata": {},
   "outputs": [
    {
     "name": "stdout",
     "output_type": "stream",
     "text": [
      "Datatype: uint8 \n",
      "Dimensions: (3060, 4080, 3)\n",
      "[ 97 109 137]\n"
     ]
    }
   ],
   "source": [
    "import cv2\n",
    "img = cv2.imread('7.jpg')\n",
    "print('Datatype:', img.dtype, '\\nDimensions:', img.shape)\n",
    "print(img[0, 0])\n",
    "cv2.imshow(\"image\", img)\n",
    "cv2.waitKey(0)\n",
    "cv2.destroyAllWindows()"
   ]
  },
  {
   "cell_type": "code",
   "execution_count": null,
   "id": "625cca85-2183-4554-ae26-0bd84e4d5238",
   "metadata": {},
   "outputs": [],
   "source": []
  }
 ],
 "metadata": {
  "kernelspec": {
   "display_name": "Python 3 (ipykernel)",
   "language": "python",
   "name": "python3"
  },
  "language_info": {
   "codemirror_mode": {
    "name": "ipython",
    "version": 3
   },
   "file_extension": ".py",
   "mimetype": "text/x-python",
   "name": "python",
   "nbconvert_exporter": "python",
   "pygments_lexer": "ipython3",
   "version": "3.12.3"
  }
 },
 "nbformat": 4,
 "nbformat_minor": 5
}
